{
 "cells": [
  {
   "cell_type": "markdown",
   "metadata": {},
   "source": [
    "Exercise 1\n",
    "Create a python file with 3 functions:\n",
    "def print_file_content(file) that can print content of a csv file to the console\n",
    "def write_list_to_file(output_file, lst) that can take a list or tuple of strings and write each element to a new line in file\n",
    "rewrite the function so that it gets an arbitrary number of strings instead of a list\n",
    "def read_csv(input_file) that take a csv file and read each row into a list. Print the list.\n",
    "Add a functionality so that the file can be called from cli with 2 arguments:\n",
    "path to csv file\n",
    "an argument --file file_name that if given will write the content to file_name or otherwise will print it to the console.\n",
    "Add a --help cli argument to describe how the module is used\n",
    "Exercise 2\n",
    "Create a module called utils.py with the following 5 functions:\n",
    "\n",
    "def get_file_names(folderpath,out=output.txt):\n",
    "    \"\"\" takes a path to a folder and writes all filenames in the folder to a specified output file\"\"\"\n",
    "\n",
    "def get_all_file_names(folderpath,out=output.txt):\n",
    "    \"\"\"takes a path to a folder and write all filenames recursively (files of all sub folders to)\"\"\"\n",
    "\n",
    "def print_line_one(file_names):\n",
    "    \"\"\"takes a list of filenames and print the first line of each\"\"\"\n",
    "\n",
    "def print_emails(file_names):\n",
    "    \"\"\"takes a list of filenames and print each line that contains an email (just look for @)\"\"\"\n",
    "\n",
    "def write_headlines(md_files, out=output.txt):\n",
    "    \"\"\"takes a list of md files and writes all headlines (lines starting with #) to a file\"\"\"\n",
    "Make sure your module can be called both from cli and imported to another module Create a new module that imports utils.py and test each function."
   ]
  },
  {
   "cell_type": "code",
   "execution_count": null,
   "metadata": {},
   "outputs": [],
   "source": [
    "#1\n",
    "import csv\n",
    "\n",
    "def print_file_content(file):\n",
    "    with open(file,'r') as file_object:\n",
    "        output_read = csv.reader(file_object)\n",
    "        header_row = next(output_read)\n",
    "        print(header_row)\n",
    "        \n",
    "print_file_content('test1.csv')"
   ]
  },
  {
   "cell_type": "code",
   "execution_count": 2,
   "metadata": {},
   "outputs": [],
   "source": [
    "#1.2\n",
    "import csv\n",
    "def write_list_to_file(output_file, lst):\n",
    "    with open(output_file, 'w') as file_object:\n",
    "        for line in lst:\n",
    "            line.rstrip()+'\\n'\n",
    "            output_writer = csv.writer(file_object)\n",
    "            output_writer.writerow(lst)\n",
    "                \n",
    "\n",
    "my_list = ['testing','the','list']\n",
    "write_list_to_file(\"Test.csv\",my_list)\n",
    "\n",
    "\n",
    "#metode 2\n",
    "def write_list_to_file(output_file, *lst):\n",
    "    with open(output_file, 'w') as file_object:\n",
    "        for line in lst:\n",
    "            line.rstrip()+'\\n'\n",
    "            output_writer = csv.writer(file_object)\n",
    "            output_writer.writerow(lst)\n",
    "                \n",
    "            \n",
    "write_list_to_file(\"Test.csv\", \"Testout\",\"yes\")"
   ]
  },
  {
   "cell_type": "code",
   "execution_count": null,
   "metadata": {},
   "outputs": [],
   "source": [
    "#1.3\n",
    "import csv\n",
    "import argparse\n",
    "\n",
    "def read_csv(file):\n",
    "    with open(file,'r') as file_object:\n",
    "        output_read = csv.reader(file_object)\n",
    "        header_row = next(output_read)\n",
    "        print(header_row)\n",
    "        \n",
    "\n",
    "if __name__ == '__main__':\n",
    "    parser = argparse.ArgumentParser(description='A program that downloads a URL and stores it locally')\n",
    "    parser.add_argument('path', help='The path where the file is')\n",
    "    parser.add_argument('-f','--file', help='Name of the file you want to print')\n",
    "    \n",
    "    args = parser.parse_args()\n",
    "    read_csv(args.path)\n",
    "    print('Path:', args.path)\n",
    "    print('FileName:', args.file)"
   ]
  },
  {
   "cell_type": "markdown",
   "metadata": {},
   "source": [
    "Den anden del af opgaven ligger under utils.py og det module som importerer det ligger under testingmodules.py"
   ]
  }
 ],
 "metadata": {
  "kernelspec": {
   "display_name": "Python 3",
   "language": "python",
   "name": "python3"
  },
  "language_info": {
   "codemirror_mode": {
    "name": "ipython",
    "version": 3
   },
   "file_extension": ".py",
   "mimetype": "text/x-python",
   "name": "python",
   "nbconvert_exporter": "python",
   "pygments_lexer": "ipython3",
   "version": "3.7.6"
  }
 },
 "nbformat": 4,
 "nbformat_minor": 4
}
