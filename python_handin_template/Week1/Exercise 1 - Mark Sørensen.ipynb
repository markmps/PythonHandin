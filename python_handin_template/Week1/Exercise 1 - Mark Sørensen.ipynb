{
 "cells": [
  {
   "cell_type": "code",
   "execution_count": 15,
   "metadata": {},
   "outputs": [
    {
     "name": "stdout",
     "output_type": "stream",
     "text": [
      "['Henrik', 'Hans']\n"
     ]
    }
   ],
   "source": [
    "#1A. Iterate a list of names to return a list of the names starting with H\n",
    "my_list=['Henrik','Mark','Hans','Peter']\n",
    "listcheck = [name for name in my_list if name[0] == 'H']\n",
    "\n",
    "print(listcheck)"
   ]
  },
  {
   "cell_type": "code",
   "execution_count": 21,
   "metadata": {},
   "outputs": [
    {
     "name": "stdout",
     "output_type": "stream",
     "text": [
      "[3, 6, 9, 12, 15, 18, 21, 24, 27, 30, 33, 36, 39, 42, 45, 48, 51, 54, 57, 60, 63, 66, 69, 72, 75, 78, 81, 84, 87, 90, 93, 96, 99, 102, 105, 108, 111, 114, 117, 120, 123, 126, 129, 132, 135, 138, 141, 144, 147, 150, 153, 156, 159, 162, 165, 168, 171, 174, 177, 180, 183, 186, 189, 192, 195, 198, 201, 204, 207, 210, 213, 216, 219, 222, 225, 228, 231, 234, 237, 240, 243, 246, 249, 252, 255, 258, 261, 264, 267, 270, 273, 276, 279, 282, 285, 288, 291, 294, 297]\n"
     ]
    }
   ],
   "source": [
    "#1B. In one line create a list of the numbers 1-100 to the power of 3\n",
    "value_list = [value * 3 for value in range(1,100)]\n",
    "print(value_list)"
   ]
  },
  {
   "cell_type": "code",
   "execution_count": 24,
   "metadata": {},
   "outputs": [
    {
     "name": "stdout",
     "output_type": "stream",
     "text": [
      "4\n",
      "[(6, 'Henrik'), (4, 'Mark'), (4, 'Hans'), (5, 'Peter')]\n"
     ]
    }
   ],
   "source": [
    "#1C. Iterate a list of names to create a list of tuples where the tuples first value is the length of the name and the second is the name\n",
    "my_list=['Henrik','Mark','Hans','Peter']\n",
    "mynew_list = [len(name) for name in my_list]\n",
    "\n",
    "my_tuple = list(zip(mynew_list,my_list))\n",
    "print(my_tuple)"
   ]
  },
  {
   "cell_type": "code",
   "execution_count": 22,
   "metadata": {},
   "outputs": [
    {
     "name": "stdout",
     "output_type": "stream",
     "text": [
      "['1', '2', '3', '3', '2', '1']\n"
     ]
    }
   ],
   "source": [
    "#1D. Iterate over each character in a string and get only those that are nummeric\n",
    "listeMedTal  = \"hej123skrivetellerandether321\"\n",
    "nyListe =[numeric for numeric in listeMedTal if numeric.isdigit()]\n",
    "print(nyListe)"
   ]
  },
  {
   "cell_type": "code",
   "execution_count": 53,
   "metadata": {},
   "outputs": [
    {
     "name": "stdout",
     "output_type": "stream",
     "text": [
      "{(1, 3), (6, 6), (5, 6), (2, 1), (6, 2), (1, 6), (5, 1), (2, 5), (1, 2), (3, 3), (5, 5), (4, 4), (6, 3), (1, 5), (3, 6), (2, 2), (4, 1), (1, 1), (6, 4), (3, 2), (2, 6), (5, 4), (4, 5), (5, 2), (1, 4), (2, 3), (4, 2), (6, 5), (3, 5), (5, 3), (4, 6), (6, 1), (3, 1), (4, 3), (3, 4), (2, 4)}\n"
     ]
    }
   ],
   "source": [
    "#1E. Using only a list comprehension wrapped in set() get all possible combination from throwing 2 dice (hint use 2 for loops in a single list comprehension)\n",
    "firstDice = [1,2,3,4,5,6]\n",
    "secondDice = [1,2,3,4,5,6]\n",
    "twoDices = set([(f,s) for f in firstDice for s in secondDice])\n",
    "\n",
    "print(twoDices)"
   ]
  },
  {
   "cell_type": "code",
   "execution_count": 20,
   "metadata": {},
   "outputs": [
    {
     "name": "stdout",
     "output_type": "stream",
     "text": [
      "{'Henrik': 6, 'Mark': 4, 'Jan': 3, 'Peter': 5}\n"
     ]
    }
   ],
   "source": [
    "#2A. Iterate a list of names and create a dictionary where key is the name and value is the length of the name\n",
    "name_list=['Henrik','Mark','Jan','Peter']\n",
    "my_dictionary = {name:len(name) for name in name_list}\n",
    "print(my_dictionary)\n",
    "\n"
   ]
  },
  {
   "cell_type": "code",
   "execution_count": 116,
   "metadata": {},
   "outputs": [
    {
     "name": "stdout",
     "output_type": "stream",
     "text": [
      "{2: 1.4142135623730951, 4: 2.0, 6: 2.449489742783178, 8: 2.8284271247461903, 10: 3.1622776601683795, 12: 3.4641016151377544, 14: 3.7416573867739413, 16: 4.0, 18: 4.242640687119285, 20: 4.47213595499958}\n"
     ]
    }
   ],
   "source": [
    "#2B. Iterate a list of numbers and create a dictionary with {key:value} being {number:squareroot_of_number}\n",
    "import math\n",
    "listofnumbers = [2,4,6,8,10,12,14,16,18,20]\n",
    "\n",
    "my_dictionarynumbers = {number:math.sqrt(number) for number in listofnumbers}\n",
    "print(my_dictionarynumbers)"
   ]
  }
 ],
 "metadata": {
  "kernelspec": {
   "display_name": "Python 3",
   "language": "python",
   "name": "python3"
  },
  "language_info": {
   "codemirror_mode": {
    "name": "ipython",
    "version": 3
   },
   "file_extension": ".py",
   "mimetype": "text/x-python",
   "name": "python",
   "nbconvert_exporter": "python",
   "pygments_lexer": "ipython3",
   "version": "3.7.6"
  }
 },
 "nbformat": 4,
 "nbformat_minor": 4
}
